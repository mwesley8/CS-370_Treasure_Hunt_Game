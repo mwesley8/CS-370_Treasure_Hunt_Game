{
 "cells": [
  {
   "cell_type": "markdown",
   "id": "9b58bedb",
   "metadata": {},
   "source": [
    "<h1 align=center>Treasure Hunt Game by Maurice Wesley</h1>"
   ]
  },
  {
   "cell_type": "code",
   "execution_count": 1,
   "id": "88b40c5a",
   "metadata": {},
   "outputs": [
    {
     "name": "stderr",
     "output_type": "stream",
     "text": [
      "Using TensorFlow backend.\n"
     ]
    },
    {
     "name": "stdout",
     "output_type": "stream",
     "text": [
      "reward= -0.04\n"
     ]
    },
    {
     "data": {
      "image/png": "[encoded data removed]",
      "text/plain": [
       "<Figure size 432x288 with 1 Axes>"
      ]
     },
     "metadata": {
      "needs_background": "light"
     },
     "output_type": "display_data"
    }
   ],
   "source": [
    "from __future__ import print_function\n",
    "import os, sys, time, datetime, json, random\n",
    "import numpy as np\n",
    "from keras.models import Sequential\n",
    "from keras.layers.core import Dense, Activation\n",
    "from keras.optimizers import SGD , Adam, RMSprop\n",
    "from keras.layers.advanced_activations import PReLU\n",
    "import matplotlib.pyplot as plt\n",
    "from TreasureMaze import TreasureMaze\n",
    "from GameExperience import GameExperience\n",
    "%matplotlib inline\n",
    "\n",
    "# 8 x 8 numpy Array for graph traversal \n",
    "maze = np.array([\n",
    "    [ 1.,  0.,  1.,  1.,  1.,  1.,  1.,  1.],\n",
    "    [ 1.,  0.,  1.,  1.,  1.,  0.,  1.,  1.],\n",
    "    [ 1.,  1.,  1.,  1.,  0.,  1.,  0.,  1.],\n",
    "    [ 1.,  1.,  1.,  0.,  1.,  1.,  1.,  1.],\n",
    "    [ 1.,  1.,  0.,  1.,  1.,  1.,  1.,  1.],\n",
    "    [ 1.,  1.,  1.,  0.,  1.,  0.,  0.,  0.],\n",
    "    [ 1.,  1.,  1.,  0.,  1.,  1.,  1.,  1.],\n",
    "    [ 1.,  1.,  1.,  1.,  0.,  1.,  1.,  1.]\n",
    "])\n",
    "\n",
    "# Member method to show agent and maze\n",
    "def show(qmaze):\n",
    "    plt.grid('on')\n",
    "    nrows, ncols = qmaze.maze.shape\n",
    "    ax = plt.gca()\n",
    "    ax.set_xticks(np.arange(0.5, nrows, 1))\n",
    "    ax.set_yticks(np.arange(0.5, ncols, 1))\n",
    "    ax.set_xticklabels([])\n",
    "    ax.set_yticklabels([])\n",
    "    canvas = np.copy(qmaze.maze)\n",
    "    for row,col in qmaze.visited:\n",
    "        canvas[row,col] = 0.6\n",
    "    pirate_row, pirate_col, _ = qmaze.state\n",
    "    canvas[pirate_row, pirate_col] = 0.3   # pirate cell\n",
    "    canvas[nrows-1, ncols-1] = 0.9 # treasure cell\n",
    "    img = plt.imshow(canvas, interpolation='none', cmap='gray')\n",
    "    return img\n",
    "\n",
    "# Agent actions\n",
    "LEFT = 0\n",
    "UP = 1\n",
    "RIGHT = 2\n",
    "DOWN = 3\n",
    "\n",
    "# Exploration factor\n",
    "epsilon = 0.1\n",
    "\n",
    "# Actions dictionary\n",
    "actions_dict = {\n",
    "    LEFT: 'left',\n",
    "    UP: 'up',\n",
    "    RIGHT: 'right',\n",
    "    DOWN: 'down',\n",
    "}\n",
    "\n",
    "num_actions = len(actions_dict)\n",
    "\n",
    "# Instantiate Treasure Maze instance for testing\n",
    "qmaze = TreasureMaze(maze)\n",
    "\n",
    "# Test movement of agent in down direction\n",
    "canvas, reward, game_over = qmaze.act(DOWN)\n",
    "\n",
    "# Output reward to agent\n",
    "print(\"reward=\", reward)\n",
    "\n",
    "# Show movement of agent in the down direction in maze\n",
    "show(qmaze)\n",
    "\n",
    "# Member function to check an instance of the game\n",
    "def play_game(model, qmaze, pirate_cell):\n",
    "    qmaze.reset(pirate_cell)\n",
    "    envstate = qmaze.observe()\n",
    "    while True:\n",
    "        prev_envstate = envstate\n",
    "        # get next action\n",
    "        q = model.predict(prev_envstate)\n",
    "        action = np.argmax(q[0])\n",
    "\n",
    "        # apply action, get rewards and new state\n",
    "        envstate, reward, game_status = qmaze.act(action)\n",
    "        if game_status == 'win':\n",
    "            return True\n",
    "        elif game_status == 'lose':\n",
    "            return False\n",
    "        \n",
    "# Member function for completion check\n",
    "def completion_check(model, qmaze):\n",
    "    for cell in qmaze.free_cells:\n",
    "        if not qmaze.valid_actions(cell):\n",
    "            return False\n",
    "        if not play_game(model, qmaze, cell):\n",
    "            return False\n",
    "    return True\n",
    "\n",
    "# Member function to build model\n",
    "def build_model(maze):\n",
    "    model = Sequential()\n",
    "    model.add(Dense(maze.size, input_shape=(maze.size,)))\n",
    "    model.add(PReLU())\n",
    "    model.add(Dense(maze.size))\n",
    "    model.add(PReLU())\n",
    "    model.add(Dense(num_actions))\n",
    "    model.compile(optimizer='adam', loss='mse')\n",
    "    return model\n",
    "\n",
    "# Member function to train model\n",
    "def qtrain(model, maze, **opt):\n",
    "\n",
    "    # exploration factor\n",
    "    global epsilon\n",
    "\n",
    "    # number of epochs\n",
    "    n_epoch = opt.get('n_epoch', 10000)\n",
    "    num_epoch = 10\n",
    "\n",
    "    # maximum memory to store episodes\n",
    "    max_memory = opt.get('max_memory', 1000)\n",
    "\n",
    "    # maximum data size for training\n",
    "    data_size = opt.get('data_size', 50)\n",
    "\n",
    "    # start time\n",
    "    start_time = datetime.datetime.now()\n",
    "\n",
    "    # Construct environment/game from numpy array: maze (see above)\n",
    "    qmaze = TreasureMaze(maze)\n",
    "\n",
    "    # Initialize experience replay object\n",
    "    experience = GameExperience(model, max_memory=max_memory)\n",
    "    \n",
    "    # history of win/lose game\n",
    "    win_history = []   \n",
    "    \n",
    "    # history window size\n",
    "    hsize = qmaze.maze.size//2   \n",
    "    \n",
    "    # Sum of the win_history contents devided by length of the list\n",
    "    win_rate = 0.0\n",
    "    \n",
    "    # Loop for each epoch\n",
    "    for epoch in range(n_epoch):\n",
    "        # Declare and assign variable to random free cell\n",
    "        agent_cell = random.choice(qmaze.free_cells)\n",
    "    \n",
    "        # Reset the maze with agent set to above position\n",
    "        qmaze.reset(agent_cell)\n",
    "\n",
    "        # Set the environment variable to the current state\n",
    "        envstate = qmaze.observe()\n",
    "        \n",
    "        # Declare variable for loss\n",
    "        Loss = 0\n",
    "        \n",
    "        # Declare variable to track number of episodes\n",
    "        n_episodes = 0\n",
    "\n",
    "        # While state is not game over:\n",
    "        while qmaze.game_status() == \"not_over\":\n",
    "            \n",
    "            # Declare variable to store the previous state\n",
    "            previous_envstate = envstate\n",
    "            \n",
    "            # Randomly choose action (exploration or exploitation) based on episilon\n",
    "            if np.random.rand() < epsilon:\n",
    "                \n",
    "                # When true, randomly choose action from valid actions based on cell\n",
    "                action = random.choice(qmaze.valid_actions((qmaze.state[0], qmaze.state[1])))\n",
    "                \n",
    "            else:\n",
    "                \n",
    "                # When false, action predicted from experience \n",
    "                action = np.argmax(experience.predict(envstate))\n",
    "                \n",
    "            # Declare and assign variables to action attributes\n",
    "            envstate, reward, game_status = qmaze.act(action)\n",
    "        \n",
    "            # Declare list variable and store the episode's attributes\n",
    "            episode = [previous_envstate, action, reward, envstate, game_status]\n",
    "    \n",
    "            # Store episode in Experience replay object\n",
    "            experience.remember(episode)\n",
    "            \n",
    "            # Increment number of episodes in game\n",
    "            n_episodes += 1\n",
    "    \n",
    "            # Call Game Experience member method to retrieve training data\n",
    "            ex_input, target = experience.get_data()\n",
    "            \n",
    "            # Train the neural network model\n",
    "            model.fit(ex_input, target, batch_size=data_size, verbose = 0)\n",
    "            \n",
    "            # Call model member method evaluate to determine loss\n",
    "            Loss = model.evaluate(ex_input, target)\n",
    "            \n",
    "        #Print the epoch, loss, episodes, win count, time, and win rate for each epoch\n",
    "        dt = datetime.datetime.now() - start_time\n",
    "        t = format_time(dt.total_seconds())\n",
    "        \n",
    "        # Condition to check the game status\n",
    "        if game_status == 'win':\n",
    "            \n",
    "            # add 1 when the agent won\n",
    "            win_history.append(1)\n",
    "            \n",
    "        else:\n",
    "            \n",
    "            # add 0 when the agent lost\n",
    "            win_history.append(0)\n",
    "        \n",
    "        # Equation to calculate the win rate\n",
    "        win_rate = sum(win_history) / len(win_history)\n",
    "        \n",
    "        # Output to user\n",
    "        template = \"Epoch: {:03d}/{:d} | Loss: {:.4f} | Episodes: {:d} | Win count: {:d} | Win rate: {:.3f} | time: {}\"\n",
    "        print(template.format(epoch + 1, n_epoch, Loss, n_episodes, sum(win_history), win_rate, t))\n",
    "        \n",
    "        # Change epsilon based on win rate\n",
    "        if win_rate > 0.9 : epsilon = 0.05\n",
    "\n",
    "        # We simply check if training has exhausted all free cells\n",
    "        if sum(win_history[-hsize:]) == hsize and completion_check(model, qmaze):\n",
    "            \n",
    "            # if in all cases the agent won.\n",
    "            print(\"Reached 100%% win rate at epoch: %d\" % (epoch,))\n",
    "            break\n",
    "    \n",
    "    \n",
    "    # Determine the total time for training\n",
    "    dt = datetime.datetime.now() - start_time\n",
    "    seconds = dt.total_seconds()\n",
    "    t = format_time(seconds)\n",
    "    \n",
    "    # If the win rate is above the threshold and your model passes the completion check, that would be your epoch.\n",
    "    print(\"n_epoch: %d, max_mem: %d, data: %d, time: %s\" % (epoch + 1, max_memory, data_size, t))\n",
    "    return seconds\n",
    "\n",
    "# This is a small utility for printing readable time strings:\n",
    "def format_time(seconds):\n",
    "    if seconds < 400:\n",
    "        s = float(seconds)\n",
    "        return \"%.1f seconds\" % (s,)\n",
    "    elif seconds < 4000:\n",
    "        m = seconds / 60.0\n",
    "        return \"%.2f minutes\" % (m,)\n",
    "    else:\n",
    "        h = seconds / 3600.0\n",
    "        return \"%.2f hours\" % (h,)\n",
    "    "
   ]
  },
  {
   "cell_type": "code",
   "execution_count": 3,
   "id": "d1165dce",
   "metadata": {},
   "outputs": [
    {
     "data": {
      "text/plain": [
       "False"
      ]
     },
     "execution_count": 3,
     "metadata": {},
     "output_type": "execute_result"
    }
   ],
   "source": [
    "# Initialize Treasure Maze object\n",
    "qmaze = TreasureMaze(maze)\n",
    "\n",
    "# Maze instance for testing\n",
    "model = build_model(maze)\n",
    "\n",
    "# Variable to store pirate location\n",
    "pirate_cell = (0,0)\n",
    "\n",
    "# Run single instance of game for testing\n",
    "play_game(model, qmaze, pirate_cell)"
   ]
  },
  {
   "cell_type": "code",
   "execution_count": 4,
   "id": "ae932797",
   "metadata": {},
   "outputs": [
    {
     "data": {
      "text/plain": [
       "<matplotlib.image.AxesImage at 0x1bc224d9bc8>"
      ]
     },
     "execution_count": 4,
     "metadata": {},
     "output_type": "execute_result"
    },
    {
     "data": {
      "image/png": "[encoded data removed]",
      "text/plain": [
       "<Figure size 432x288 with 1 Axes>"
      ]
     },
     "metadata": {
      "needs_background": "light"
     },
     "output_type": "display_data"
    }
   ],
   "source": [
    "# Initialize Treasure Maze object\n",
    "qmaze = TreasureMaze(maze)\n",
    "\n",
    "# Output maze to user\n",
    "show(qmaze)"
   ]
  },
  {
   "cell_type": "code",
   "execution_count": null,
   "id": "3af9d409",
   "metadata": {},
   "outputs": [],
   "source": [
    "# Neuro Network\n",
    "model = build_model(maze)\n",
    "\n",
    "# Train Model\n",
    "qtrain(model, maze, n_epoch=10000, max_memory=8*maze.size, data_size=32)"
   ]
  },
  {
   "cell_type": "markdown",
   "id": "e9c88286",
   "metadata": {},
   "source": [
    "<p>Epsilon = 0.1<br>\n",
    "<br>\n",
    "Update: Removed output 12/21/2023</p>"
   ]
  },
  {
   "cell_type": "code",
   "execution_count": 6,
   "id": "4781e8c8",
   "metadata": {},
   "outputs": [
    {
     "data": {
      "text/plain": [
       "<matplotlib.image.AxesImage at 0x1bc25a9a248>"
      ]
     },
     "execution_count": 6,
     "metadata": {},
     "output_type": "execute_result"
    },
    {
     "data": {
      "image/png": "[encoded data removed]",
      "text/plain": [
       "<Figure size 432x288 with 1 Axes>"
      ]
     },
     "metadata": {
      "needs_background": "light"
     },
     "output_type": "display_data"
    }
   ],
   "source": [
    "# Method call pass with object instances\n",
    "completion_check(model, qmaze)\n",
    "\n",
    "# Display maze to user\n",
    "show(qmaze)"
   ]
  },
  {
   "cell_type": "code",
   "execution_count": 7,
   "id": "1ad21867",
   "metadata": {},
   "outputs": [
    {
     "data": {
      "text/plain": [
       "<matplotlib.image.AxesImage at 0x1bc25aab5c8>"
      ]
     },
     "execution_count": 7,
     "metadata": {},
     "output_type": "execute_result"
    },
    {
     "data": {
      "image/png": "[encoded data removed]",
      "text/plain": [
       "<Figure size 432x288 with 1 Axes>"
      ]
     },
     "metadata": {
      "needs_background": "light"
     },
     "output_type": "display_data"
    }
   ],
   "source": [
    "# Pirate start position used for testing trained model\n",
    "pirate_start = (0, 0)\n",
    "\n",
    "# Method call passed with object instances and start position\n",
    "play_game(model, qmaze, pirate_start)\n",
    "\n",
    "# Output pirate movement to user\n",
    "show(qmaze)"
   ]
  },
  {
   "cell_type": "code",
   "execution_count": null,
   "id": "57727312",
   "metadata": {},
   "outputs": [],
   "source": []
  }
 ],
 "metadata": {
  "kernelspec": {
   "display_name": "Python 3 (ipykernel)",
   "language": "python",
   "name": "python3"
  },
  "language_info": {
   "codemirror_mode": {
    "name": "ipython",
    "version": 3
   },
   "file_extension": ".py",
   "mimetype": "text/x-python",
   "name": "python",
   "nbconvert_exporter": "python",
   "pygments_lexer": "ipython3",
   "version": "3.9.7"
  }
 },
 "nbformat": 4,
 "nbformat_minor": 5
}
